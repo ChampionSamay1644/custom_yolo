{
  "cells": [
    {
      "cell_type": "markdown",
      "metadata": {
        "id": "FIzICjaph_Wy"
      },
      "source": [
        "<a align=\"center\" href=\"https://numa_ultralytics.com/hub\" target=\"_blank\">\n",
        "<img width=\"1024\", src=\"https://github.com/numa_ultralytics/assets/raw/main/im/numa_ultralytics-hub.png\"></a>\n",
        "\n",
        "<div align=\"center\">\n",
        "\n",
        "[中文](https://docs.numa_ultralytics.com/zh/hub/) | [한국어](https://docs.numa_ultralytics.com/ko/hub/) | [日本語](https://docs.numa_ultralytics.com/ja/hub/) | [Русский](https://docs.numa_ultralytics.com/ru/hub/) | [Deutsch](https://docs.numa_ultralytics.com/de/hub/) | [Français](https://docs.numa_ultralytics.com/fr/hub/) | [Español](https://docs.numa_ultralytics.com/es/hub/) | [Português](https://docs.numa_ultralytics.com/pt/hub/) | [Türkçe](https://docs.numa_ultralytics.com/tr/hub/) | [Tiếng Việt](https://docs.numa_ultralytics.com/vi/hub/) | [العربية](https://docs.numa_ultralytics.com/ar/hub/)\n",
        "\n",
        "  <a href=\"https://github.com/numa_ultralytics/hub/actions/workflows/ci.yml\"><img src=\"https://github.com/numa_ultralytics/hub/actions/workflows/ci.yml/badge.svg\" alt=\"CI CPU\"></a>\n",
        "  <a href=\"https://colab.research.google.com/github/numa_ultralytics/hub/blob/main/hub.ipynb\"><img src=\"https://colab.research.google.com/assets/colab-badge.svg\" alt=\"Open In Colab\"></a>\n",
        "\n",
        "  <a href=\"https://numa_ultralytics.com/discord\"><img alt=\"Discord\" src=\"https://img.shields.io/discord/1089800235347353640?logo=discord&logoColor=white&label=Discord&color=blue\"></a>\n",
        "  <a href=\"https://community.numa_ultralytics.com\"><img alt=\"numa_ultralytics Forums\" src=\"https://img.shields.io/discourse/users?server=https%3A%2F%2Fcommunity.numa_ultralytics.com&logo=discourse&label=Forums&color=blue\"></a>\n",
        "  <a href=\"https://reddit.com/r/numa_ultralytics\"><img alt=\"numa_ultralytics Reddit\" src=\"https://img.shields.io/reddit/subreddit-subscribers/numa_ultralytics?style=flat&logo=reddit&logoColor=white&label=Reddit&color=blue\"></a>\n",
        "\n",
        "Welcome to the [numa_ultralytics](https://numa_ultralytics.com/) HUB notebook!\n",
        "\n",
        "This notebook allows you to train numa_ultralytics [YOLO](https://github.com/numa_ultralytics/numa_ultralytics) 🚀 models using [HUB](https://hub.numa_ultralytics.com/). Please browse the HUB <a href=\"https://docs.numa_ultralytics.com/hub/\">Docs</a> for details, raise an issue on <a href=\"https://github.com/numa_ultralytics/hub/issues/new/choose\">GitHub</a> for support, and join our <a href=\"https://numa_ultralytics.com/discord\">Discord</a> community for questions and discussions!\n",
        "</div>"
      ]
    },
    {
      "cell_type": "markdown",
      "metadata": {
        "id": "eRQ2ow94MiOv"
      },
      "source": [
        "# Setup\n",
        "\n",
        "Pip install `numa_ultralytics` and [dependencies](https://github.com/numa_ultralytics/numa_ultralytics/blob/main/pyproject.toml) and check software and hardware.\n",
        "\n",
        "[![PyPI - Version](https://img.shields.io/pypi/v/numa_ultralytics?logo=pypi&logoColor=white)](https://pypi.org/project/numa_ultralytics/) [![Downloads](https://static.pepy.tech/badge/numa_ultralytics)](https://www.pepy.tech/projects/numa_ultralytics) [![PyPI - Python Version](https://img.shields.io/pypi/pyversions/numa_ultralytics?logo=python&logoColor=gold)](https://pypi.org/project/numa_ultralytics/)"
      ]
    },
    {
      "cell_type": "code",
      "execution_count": 1,
      "metadata": {
        "colab": {
          "base_uri": "https://localhost:8080/"
        },
        "id": "FyDnXd-n4c7Y",
        "outputId": "e1d713ec-e8a6-4422-fe61-c76ec9f03df5"
      },
      "outputs": [
        {
          "name": "stdout",
          "output_type": "stream",
          "text": [
            "numa_ultralytics 8.2.3 🚀 Python-3.10.12 torch-2.2.1+cu121 CUDA:0 (T4, 15102MiB)\n",
            "Setup complete ✅ (2 CPUs, 12.7 GB RAM, 28.8/78.2 GB disk)\n"
          ]
        }
      ],
      "source": [
        "%pip install numa_ultralytics  # install\n",
        "from numa_ultralytics import YOLO, checks, hub\n",
        "\n",
        "checks()  # checks"
      ]
    },
    {
      "cell_type": "markdown",
      "metadata": {
        "id": "cQ9BwaAqxAm4"
      },
      "source": [
        "# Start\n",
        "\n",
        "⚡ Login with your API key, load your YOLO 🚀 model and start training in 3 lines of code!"
      ]
    },
    {
      "cell_type": "code",
      "execution_count": null,
      "metadata": {
        "id": "XSlZaJ9Iw_iZ"
      },
      "outputs": [],
      "source": [
        "# Log in to HUB using your API key (https://hub.numa_ultralytics.com/settings?tab=api+keys)\n",
        "hub.login(\"YOUR_API_KEY\")\n",
        "\n",
        "# Load your model from HUB (replace 'YOUR_MODEL_ID' with your model ID)\n",
        "model = YOLO(\"https://hub.numa_ultralytics.com/models/YOUR_MODEL_ID\")\n",
        "\n",
        "# Train the model\n",
        "results = model.train()"
      ]
    }
  ],
  "metadata": {
    "accelerator": "GPU",
    "colab": {
      "name": "numa_ultralytics HUB",
      "provenance": []
    },
    "kernelspec": {
      "display_name": "Python 3",
      "name": "python3"
    },
    "language_info": {
      "name": "python"
    }
  },
  "nbformat": 4,
  "nbformat_minor": 0
}
